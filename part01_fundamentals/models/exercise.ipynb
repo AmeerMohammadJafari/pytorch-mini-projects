{
 "cells": [
  {
   "cell_type": "code",
   "execution_count": 1,
   "id": "c2d286c8",
   "metadata": {},
   "outputs": [],
   "source": [
    "import torch\n",
    "from torch import nn\n",
    "import matplotlib.pyplot as plt"
   ]
  },
  {
   "cell_type": "code",
   "execution_count": 7,
   "id": "eb825e93",
   "metadata": {},
   "outputs": [
    {
     "data": {
      "text/plain": [
       "torch.Size([100, 1])"
      ]
     },
     "execution_count": 7,
     "metadata": {},
     "output_type": "execute_result"
    }
   ],
   "source": [
    "weight, bias = 0.3, 0.9\n",
    "input_data = torch.arange(start=0, end=1, step=0.01).unsqueeze(dim=1)\n",
    "input_data.shape"
   ]
  },
  {
   "cell_type": "code",
   "execution_count": 8,
   "id": "a2483fe3",
   "metadata": {},
   "outputs": [
    {
     "data": {
      "text/plain": [
       "torch.Size([100, 1])"
      ]
     },
     "execution_count": 8,
     "metadata": {},
     "output_type": "execute_result"
    }
   ],
   "source": [
    "output = weight * input_data + bias\n",
    "output.shape"
   ]
  },
  {
   "cell_type": "code",
   "execution_count": 26,
   "id": "c9ddf76c",
   "metadata": {},
   "outputs": [],
   "source": [
    "train_size = int(0.8 * len(input_data))\n",
    "X_train, y_train = input_data[:train_size], output[:train_size]\n",
    "X_test, y_test = input_data[train_size:], output[train_size:]\n",
    "# visualizing\n",
    "def plot_predictions(train_inputs, train_labels, test_inputs, test_labels, predictions=None):\n",
    "    plt.figure(figsize=(7, 7))\n",
    "    plt.scatter(train_inputs, train_labels, c='b', s=2, label='train data')\n",
    "    plt.scatter(test_inputs, test_labels, c='r', s=2, label='test data')\n",
    "    if predictions is not None:\n",
    "        plt.scatter(test_inputs, predictions, c='g', s=2, label='predictions')\n",
    "    plt.legend(prop={'size':14})"
   ]
  },
  {
   "cell_type": "code",
   "execution_count": 27,
   "id": "7d69b6ad",
   "metadata": {},
   "outputs": [
    {
     "data": {
      "image/png": "[encoded data removed]",
      "text/plain": [
       "<Figure size 700x700 with 1 Axes>"
      ]
     },
     "metadata": {},
     "output_type": "display_data"
    }
   ],
   "source": [
    "plot_predictions(X_train, y_train, X_test, y_test)"
   ]
  },
  {
   "cell_type": "code",
   "execution_count": 30,
   "id": "a8ffd78f",
   "metadata": {},
   "outputs": [],
   "source": [
    "class LinearRegression(nn.Module):\n",
    "    def __init__(self):\n",
    "        super().__init__()\n",
    "        self.linear_layer = nn.Linear(in_features=1, out_features=1)\n",
    "    \n",
    "    def forward(self, x:torch.Tensor) -> torch.Tensor:\n",
    "        return self.linear_layer(x)"
   ]
  },
  {
   "cell_type": "code",
   "execution_count": 92,
   "id": "ad688dd1",
   "metadata": {},
   "outputs": [
    {
     "data": {
      "text/plain": [
       "OrderedDict([('linear_layer.weight', tensor([[-0.4463]])),\n",
       "             ('linear_layer.bias', tensor([-0.1381]))])"
      ]
     },
     "execution_count": 92,
     "metadata": {},
     "output_type": "execute_result"
    }
   ],
   "source": [
    "model = LinearRegression()\n",
    "model.state_dict()"
   ]
  },
  {
   "cell_type": "code",
   "execution_count": 93,
   "id": "d180b1f3",
   "metadata": {},
   "outputs": [],
   "source": [
    "loss_function = nn.L1Loss()\n",
    "optimizer = torch.optim.SGD(model.parameters(), lr=0.01)"
   ]
  },
  {
   "cell_type": "code",
   "execution_count": 100,
   "id": "96e81e54",
   "metadata": {},
   "outputs": [
    {
     "name": "stdout",
     "output_type": "stream",
     "text": [
      "Epoch: 0 | train loss: 0.008306843228638172 | test loss: 0.006915760226547718\n",
      "Epoch: 20 | train loss: 0.008306843228638172 | test loss: 0.006915760226547718\n",
      "Epoch: 40 | train loss: 0.008306843228638172 | test loss: 0.006915760226547718\n",
      "Epoch: 60 | train loss: 0.008306843228638172 | test loss: 0.006915760226547718\n",
      "Epoch: 80 | train loss: 0.008306843228638172 | test loss: 0.006915760226547718\n",
      "Epoch: 100 | train loss: 0.008306843228638172 | test loss: 0.006915760226547718\n",
      "Epoch: 120 | train loss: 0.008306843228638172 | test loss: 0.006915760226547718\n",
      "Epoch: 140 | train loss: 0.008306843228638172 | test loss: 0.006915760226547718\n",
      "Epoch: 160 | train loss: 0.008306843228638172 | test loss: 0.006915760226547718\n",
      "Epoch: 180 | train loss: 0.008306843228638172 | test loss: 0.006915760226547718\n",
      "Epoch: 200 | train loss: 0.008306843228638172 | test loss: 0.006915760226547718\n",
      "Epoch: 220 | train loss: 0.008306843228638172 | test loss: 0.006915760226547718\n",
      "Epoch: 240 | train loss: 0.008306843228638172 | test loss: 0.006915760226547718\n",
      "Epoch: 260 | train loss: 0.008306843228638172 | test loss: 0.006915760226547718\n",
      "Epoch: 280 | train loss: 0.008306843228638172 | test loss: 0.006915760226547718\n"
     ]
    }
   ],
   "source": [
    "number_of_epochs = 300\n",
    "\n",
    "for epoch in range(number_of_epochs):\n",
    "    model.train()\n",
    "    y_predictions = model(X_train)\n",
    "    loss = loss_function(y_predictions, y_train)\n",
    "    optimizer.zero_grad()\n",
    "    loss.backward()\n",
    "    optimizer.step()\n",
    "    \n",
    "    # testing phase\n",
    "    model.eval()\n",
    "    with torch.inference_mode():\n",
    "        test_predictions = model(X_test)\n",
    "        test_loss = loss_function(test_predictions, y_test)\n",
    "    if epoch % 20 == 0:\n",
    "        print(f'Epoch: {epoch} | train loss: {loss} | test loss: {test_loss}')"
   ]
  },
  {
   "cell_type": "code",
   "execution_count": 101,
   "id": "2ca7ac86",
   "metadata": {},
   "outputs": [
    {
     "data": {
      "text/plain": [
       "device(type='cpu')"
      ]
     },
     "execution_count": 101,
     "metadata": {},
     "output_type": "execute_result"
    }
   ],
   "source": [
    "with torch.inference_mode():\n",
    "    test_predictions = model(X_test)\n",
    "test_predictions.device"
   ]
  },
  {
   "cell_type": "code",
   "execution_count": 102,
   "id": "04d84621",
   "metadata": {},
   "outputs": [
    {
     "data": {
      "image/png": "[encoded data removed]",
      "text/plain": [
       "<Figure size 700x700 with 1 Axes>"
      ]
     },
     "metadata": {},
     "output_type": "display_data"
    }
   ],
   "source": [
    "plot_predictions(X_train, y_train, X_test, y_test, predictions=test_predictions)"
   ]
  },
  {
   "cell_type": "code",
   "execution_count": 103,
   "id": "71007e25",
   "metadata": {},
   "outputs": [],
   "source": [
    "from pathlib import Path\n",
    "MODEL_PATH = Path('models')\n",
    "MODEL_PATH.mkdir(parents=True, exist_ok=True)\n",
    "MODEL_NAME = 'simple_linear_regression.pth'\n",
    "MODEL_SAVE_PATH = MODEL_PATH / MODEL_NAME\n",
    "torch.save(obj=model.state_dict(), f=MODEL_SAVE_PATH)"
   ]
  },
  {
   "cell_type": "code",
   "execution_count": 104,
   "id": "d27a4dec",
   "metadata": {},
   "outputs": [
    {
     "data": {
      "text/plain": [
       "OrderedDict([('linear_layer.weight', tensor([[0.2966]])),\n",
       "             ('linear_layer.bias', tensor([0.9096]))])"
      ]
     },
     "execution_count": 104,
     "metadata": {},
     "output_type": "execute_result"
    }
   ],
   "source": [
    "another_model = LinearRegression()\n",
    "another_model.load_state_dict(torch.load(MODEL_SAVE_PATH))\n",
    "another_model.state_dict()"
   ]
  },
  {
   "cell_type": "code",
   "execution_count": 105,
   "id": "287d5cfb",
   "metadata": {},
   "outputs": [
    {
     "data": {
      "text/plain": [
       "tensor([[True],\n",
       "        [True],\n",
       "        [True],\n",
       "        [True],\n",
       "        [True],\n",
       "        [True],\n",
       "        [True],\n",
       "        [True],\n",
       "        [True],\n",
       "        [True],\n",
       "        [True],\n",
       "        [True],\n",
       "        [True],\n",
       "        [True],\n",
       "        [True],\n",
       "        [True],\n",
       "        [True],\n",
       "        [True],\n",
       "        [True],\n",
       "        [True]])"
      ]
     },
     "execution_count": 105,
     "metadata": {},
     "output_type": "execute_result"
    }
   ],
   "source": [
    "another_model.eval()\n",
    "with torch.inference_mode():\n",
    "    result = another_model(X_test)\n",
    "test_predictions == result"
   ]
  }
 ],
 "metadata": {
  "kernelspec": {
   "display_name": "Python 3 (ipykernel)",
   "language": "python",
   "name": "python3"
  },
  "language_info": {
   "codemirror_mode": {
    "name": "ipython",
    "version": 3
   },
   "file_extension": ".py",
   "mimetype": "text/x-python",
   "name": "python",
   "nbconvert_exporter": "python",
   "pygments_lexer": "ipython3",
   "version": "3.10.9"
  }
 },
 "nbformat": 4,
 "nbformat_minor": 5
}
