{
 "cells": [
  {
   "cell_type": "code",
   "execution_count": 1,
   "id": "f7c4b339",
   "metadata": {},
   "outputs": [],
   "source": [
    "import torch\n",
    "from torch import nn\n",
    "import torchvision\n",
    "from torchvision.datasets import MNIST\n",
    "from torchvision.transforms import ToTensor"
   ]
  },
  {
   "cell_type": "code",
   "execution_count": 2,
   "id": "839bcc1a",
   "metadata": {},
   "outputs": [],
   "source": [
    "train_data = MNIST(root='data', train=True, transform=ToTensor(), target_transform=None, download=True)"
   ]
  },
  {
   "cell_type": "code",
   "execution_count": 3,
   "id": "1b40da59",
   "metadata": {},
   "outputs": [
    {
     "name": "stdout",
     "output_type": "stream",
     "text": [
      "The classes name are:\n",
      "['0 - zero', '1 - one', '2 - two', '3 - three', '4 - four', '5 - five', '6 - six', '7 - seven', '8 - eight', '9 - nine']\n"
     ]
    }
   ],
   "source": [
    "classes_name = train_data.classes\n",
    "print(f'The classes name are:\\n{classes_name}')"
   ]
  },
  {
   "cell_type": "code",
   "execution_count": 4,
   "id": "1071a43e",
   "metadata": {},
   "outputs": [
    {
     "name": "stdout",
     "output_type": "stream",
     "text": [
      "The number of training samples are 60000\n"
     ]
    }
   ],
   "source": [
    "print(f'The number of training samples are {len(train_data)}')"
   ]
  },
  {
   "cell_type": "code",
   "execution_count": 5,
   "id": "92f9aa5e",
   "metadata": {},
   "outputs": [],
   "source": [
    "X, y = train_data[0]"
   ]
  },
  {
   "cell_type": "code",
   "execution_count": 6,
   "id": "a708c1db",
   "metadata": {},
   "outputs": [
    {
     "name": "stdout",
     "output_type": "stream",
     "text": [
      "The shape of a single input sample is torch.Size([1, 28, 28]) and label is an integer\n"
     ]
    }
   ],
   "source": [
    "print(f'The shape of a single input sample is {X.shape} and label is an integer')"
   ]
  },
  {
   "cell_type": "code",
   "execution_count": 7,
   "id": "14b3f8da",
   "metadata": {},
   "outputs": [],
   "source": [
    "test_data = MNIST(root='data', train=False, transform=ToTensor(), download=True)"
   ]
  },
  {
   "cell_type": "code",
   "execution_count": 8,
   "id": "ccf4c217",
   "metadata": {},
   "outputs": [
    {
     "name": "stdout",
     "output_type": "stream",
     "text": [
      "The number of test samples are 10000\n"
     ]
    }
   ],
   "source": [
    "print(f'The number of test samples are {len(test_data)}')"
   ]
  },
  {
   "cell_type": "markdown",
   "id": "79da265e",
   "metadata": {},
   "source": [
    "And of course the shape of X, y in test_data is same as training_data"
   ]
  },
  {
   "cell_type": "code",
   "execution_count": 9,
   "id": "db9c489c",
   "metadata": {},
   "outputs": [],
   "source": [
    "import matplotlib.pyplot as plt"
   ]
  },
  {
   "cell_type": "code",
   "execution_count": 10,
   "id": "59cb9a7e",
   "metadata": {},
   "outputs": [
    {
     "data": {
      "image/png": "[encoded data removed]",
      "text/plain": [
       "<Figure size 640x480 with 1 Axes>"
      ]
     },
     "metadata": {},
     "output_type": "display_data"
    }
   ],
   "source": [
    "image, label = train_data.data[0], train_data.targets[0]\n",
    "plt.imshow(image.squeeze(), cmap='gray')\n",
    "plt.axis(False)\n",
    "plt.title(classes_name[label]);"
   ]
  },
  {
   "cell_type": "code",
   "execution_count": 11,
   "id": "df18ed44",
   "metadata": {},
   "outputs": [
    {
     "data": {
      "image/png": "[encoded data removed]",
      "text/plain": [
       "<Figure size 500x500 with 9 Axes>"
      ]
     },
     "metadata": {},
     "output_type": "display_data"
    }
   ],
   "source": [
    "# plot the first 9 images with corresponding labels\n",
    "torch.manual_seed(42)\n",
    "fig = plt.figure(figsize=(5, 5))\n",
    "for i in range(1, 10):\n",
    "    random_index = torch.randint(0, len(train_data), size=[1]).item()\n",
    "    image, label = train_data[random_index]\n",
    "    fig.add_subplot(3, 3, i)\n",
    "    plt.imshow(image.squeeze(), cmap='gray')\n",
    "    plt.title(classes_name[label])\n",
    "    plt.axis(False);"
   ]
  },
  {
   "cell_type": "code",
   "execution_count": 12,
   "id": "bcbac55c",
   "metadata": {},
   "outputs": [],
   "source": [
    "from torch.utils.data import DataLoader"
   ]
  },
  {
   "cell_type": "code",
   "execution_count": 13,
   "id": "aa9198e0",
   "metadata": {},
   "outputs": [],
   "source": [
    "train_dataloader = DataLoader(dataset=train_data, batch_size=32, shuffle=True)\n",
    "test_dataloader = DataLoader(dataset=test_data, batch_size=32, shuffle=False)"
   ]
  },
  {
   "cell_type": "code",
   "execution_count": 14,
   "id": "c022153f",
   "metadata": {},
   "outputs": [
    {
     "name": "stdout",
     "output_type": "stream",
     "text": [
      "We use dataloaders to put dataset into batches\n",
      "Now we have 1875 and 313 batches in train and test dataloaders\n",
      "size of batch: 32\n"
     ]
    }
   ],
   "source": [
    "print('We use dataloaders to put dataset into batches')\n",
    "print(f'Now we have {len(train_dataloader)} and {len(test_dataloader)} batches in train and test dataloaders')\n",
    "print('size of batch: 32')"
   ]
  },
  {
   "cell_type": "code",
   "execution_count": 15,
   "id": "b7fe4c11",
   "metadata": {},
   "outputs": [
    {
     "name": "stdout",
     "output_type": "stream",
     "text": [
      "If we iterate over train_dataloader, we can see that the shape of input samples are torch.Size([32, 1, 28, 28])\n",
      "and the shape of labels are torch.Size([32])\n"
     ]
    }
   ],
   "source": [
    "X, y = next(iter(train_dataloader))\n",
    "print(f'If we iterate over train_dataloader, we can see that the shape of input samples are {X.shape}\\nand the shape of labels are {y.shape}')"
   ]
  },
  {
   "cell_type": "code",
   "execution_count": 16,
   "id": "d1a874e3",
   "metadata": {},
   "outputs": [],
   "source": [
    "class MNISTModel(nn.Module):\n",
    "    def __init__(self, input_shape: int, hidden_units: int, output_shape: int):\n",
    "        super().__init__()\n",
    "        self.cnn = nn.Sequential(nn.Conv2d(in_channels=1, out_channels=hidden_units, kernel_size=3,\n",
    "                                                    padding=1),\n",
    "                                           nn.ReLU(),\n",
    "                                           nn.Conv2d(in_channels=hidden_units, out_channels=hidden_units, kernel_size=3,\n",
    "                                                    padding=1),\n",
    "                                           nn.ReLU(),\n",
    "                                           nn.MaxPool2d(kernel_size=2, stride=2),\n",
    "                                           nn.Conv2d(in_channels=hidden_units, out_channels=hidden_units, kernel_size=3,\n",
    "                                                    padding=1),\n",
    "                                           nn.ReLU(),\n",
    "                                           nn.Conv2d(in_channels=hidden_units, out_channels=hidden_units, kernel_size=3,\n",
    "                                                    padding=1),\n",
    "                                           nn.ReLU(),\n",
    "                                           nn.MaxPool2d(kernel_size=2, stride=2))\n",
    "        self.fc = nn.Sequential(nn.Flatten(),\n",
    "                                nn.Linear(in_features=7*7*hidden_units, out_features=output_shape))\n",
    "    def forward(self, x):\n",
    "        return self.fc(self.cnn(x))"
   ]
  },
  {
   "cell_type": "code",
   "execution_count": 17,
   "id": "6f989067",
   "metadata": {},
   "outputs": [],
   "source": [
    "torch.manual_seed(42)\n",
    "model_on_cpu = MNISTModel(input_shape=1, hidden_units=10, output_shape=10).cpu()"
   ]
  },
  {
   "cell_type": "code",
   "execution_count": 18,
   "id": "0d7362f1",
   "metadata": {},
   "outputs": [
    {
     "data": {
      "text/plain": [
       "MNISTModel(\n",
       "  (cnn): Sequential(\n",
       "    (0): Conv2d(1, 10, kernel_size=(3, 3), stride=(1, 1), padding=(1, 1))\n",
       "    (1): ReLU()\n",
       "    (2): Conv2d(10, 10, kernel_size=(3, 3), stride=(1, 1), padding=(1, 1))\n",
       "    (3): ReLU()\n",
       "    (4): MaxPool2d(kernel_size=2, stride=2, padding=0, dilation=1, ceil_mode=False)\n",
       "    (5): Conv2d(10, 10, kernel_size=(3, 3), stride=(1, 1), padding=(1, 1))\n",
       "    (6): ReLU()\n",
       "    (7): Conv2d(10, 10, kernel_size=(3, 3), stride=(1, 1), padding=(1, 1))\n",
       "    (8): ReLU()\n",
       "    (9): MaxPool2d(kernel_size=2, stride=2, padding=0, dilation=1, ceil_mode=False)\n",
       "  )\n",
       "  (fc): Sequential(\n",
       "    (0): Flatten(start_dim=1, end_dim=-1)\n",
       "    (1): Linear(in_features=490, out_features=10, bias=True)\n",
       "  )\n",
       ")"
      ]
     },
     "execution_count": 18,
     "metadata": {},
     "output_type": "execute_result"
    }
   ],
   "source": [
    "model_on_cpu"
   ]
  },
  {
   "cell_type": "code",
   "execution_count": 19,
   "id": "5c518a52",
   "metadata": {},
   "outputs": [
    {
     "data": {
      "text/plain": [
       "'cuda'"
      ]
     },
     "execution_count": 19,
     "metadata": {},
     "output_type": "execute_result"
    }
   ],
   "source": [
    "device = 'cuda' if torch.cuda.is_available() else 'cpu'\n",
    "device"
   ]
  },
  {
   "cell_type": "code",
   "execution_count": 21,
   "id": "9d10b585",
   "metadata": {},
   "outputs": [],
   "source": [
    "loss = nn.CrossEntropyLoss()\n",
    "optimizer = torch.optim.SGD(model_on_cpu.parameters(), lr=0.1)"
   ]
  },
  {
   "cell_type": "code",
   "execution_count": 22,
   "id": "321811da",
   "metadata": {},
   "outputs": [],
   "source": [
    "from torchmetrics import Accuracy\n",
    "acc = Accuracy(task='multiclass', num_classes=len(classes_name))"
   ]
  },
  {
   "cell_type": "code",
   "execution_count": 23,
   "id": "855a950b",
   "metadata": {},
   "outputs": [],
   "source": [
    "def train(model: torch.nn.Module, train_data: torch.utils.data.DataLoader, loss_function: nn.Module,\n",
    "         optimizer: torch.optim.Optimizer, accuracy_function, device: torch.device):\n",
    "    model.to(device)\n",
    "    model.train()\n",
    "    total_loss, total_acc = 0, 0\n",
    "    for X, y in train_data:\n",
    "        X, y = X.to(device), y.to(device)\n",
    "        y_pred = model(X)\n",
    "        loss = loss_function(y_pred, y)\n",
    "        total_loss += loss\n",
    "        accuracy_function = accuracy_function.to(device)\n",
    "        total_acc += accuracy_function(y_pred.argmax(dim=1), y)\n",
    "        \n",
    "        optimizer.zero_grad()\n",
    "        loss.backward()\n",
    "        optimizer.step()\n",
    "    total_loss /= len(train_data)\n",
    "    total_acc /= len(train_data)\n",
    "    print(f'Train loss: {total_loss} | Train accuracy: {total_acc}')\n",
    "        "
   ]
  },
  {
   "cell_type": "code",
   "execution_count": 24,
   "id": "71e3c2d1",
   "metadata": {},
   "outputs": [],
   "source": [
    "def test(model: torch.nn.Module, test_data: torch.utils.data.DataLoader, loss_function: nn.Module,\n",
    "        accuracy_function, device:torch.device):\n",
    "    total_loss, total_accuracy = 0, 0\n",
    "    model.eval()\n",
    "    with torch.inference_mode():\n",
    "        for X, y in test_data:\n",
    "            X, y = X.to(device), y.to(device)\n",
    "            y_pred = model(X)\n",
    "            total_loss += loss_function(y_pred, y)\n",
    "            accuracy_function = accuracy_function.to(device)\n",
    "            total_accuracy += accuracy_function(y_pred.argmax(dim=1), y)\n",
    "        total_loss /= len(test_data)\n",
    "        total_accuracy /= len(test_data)\n",
    "        print(f'Test loss: {total_loss} | Test accuracy: {total_accuracy}')"
   ]
  },
  {
   "cell_type": "markdown",
   "id": "de32c8fc",
   "metadata": {},
   "source": [
    "Try on cpu"
   ]
  },
  {
   "cell_type": "code",
   "execution_count": 25,
   "id": "cc5e0233",
   "metadata": {},
   "outputs": [
    {
     "name": "stdout",
     "output_type": "stream",
     "text": [
      "Epoch 1\n",
      "--------\n",
      "Train loss: 0.26599764823913574 | Train accuracy: 0.9133166670799255\n",
      "Test loss: 0.07586522400379181 | Test accuracy: 0.9756389856338501\n",
      "Epoch 2\n",
      "--------\n",
      "Train loss: 0.06935886293649673 | Train accuracy: 0.9785833358764648\n",
      "Test loss: 0.043859295547008514 | Test accuracy: 0.985223650932312\n",
      "Epoch 3\n",
      "--------\n",
      "Train loss: 0.05383315682411194 | Train accuracy: 0.9837833046913147\n",
      "Test loss: 0.040152039378881454 | Test accuracy: 0.986920952796936\n",
      "Epoch 4\n",
      "--------\n",
      "Train loss: 0.0447562150657177 | Train accuracy: 0.9862666726112366\n",
      "Test loss: 0.03904232010245323 | Test accuracy: 0.9874201416969299\n",
      "Epoch 5\n",
      "--------\n",
      "Train loss: 0.03967498615384102 | Train accuracy: 0.9875666499137878\n",
      "Test loss: 0.0362006351351738 | Test accuracy: 0.9882188439369202\n",
      "The total time: 59.245093621000706\n"
     ]
    }
   ],
   "source": [
    "from timeit import default_timer as timer\n",
    "start_cpu = timer()\n",
    "epochs = 5\n",
    "for epoch in range(epochs):\n",
    "    print(f'Epoch {epoch+1}\\n--------')\n",
    "    train(model=model_on_cpu, train_data=train_dataloader, loss_function=loss, optimizer=optimizer,\n",
    "         accuracy_function=acc, device='cpu')\n",
    "    test(model=model_on_cpu, test_data=test_dataloader, loss_function=loss, accuracy_function=acc, device='cpu')\n",
    "end_cpu = timer()\n",
    "print(f'The total time: {end_cpu - start_cpu}')"
   ]
  },
  {
   "cell_type": "markdown",
   "id": "6a5b7dc8",
   "metadata": {},
   "source": [
    "Now try on gpu"
   ]
  },
  {
   "cell_type": "code",
   "execution_count": 26,
   "id": "ec21192c",
   "metadata": {},
   "outputs": [
    {
     "name": "stdout",
     "output_type": "stream",
     "text": [
      "Epoch 1\n",
      "--------\n",
      "Train loss: 0.39061111211776733 | Train accuracy: 0.864716649055481\n",
      "Test loss: 0.11011284589767456 | Test accuracy: 0.9626597166061401\n",
      "Epoch 2\n",
      "--------\n",
      "Train loss: 0.08688222616910934 | Train accuracy: 0.9732166528701782\n",
      "Test loss: 0.05925114452838898 | Test accuracy: 0.9788338541984558\n",
      "Epoch 3\n",
      "--------\n",
      "Train loss: 0.06471187621355057 | Train accuracy: 0.9798166751861572\n",
      "Test loss: 0.04859508201479912 | Test accuracy: 0.9842252135276794\n",
      "Epoch 4\n",
      "--------\n",
      "Train loss: 0.056760791689157486 | Train accuracy: 0.9827166795730591\n",
      "Test loss: 0.046156786382198334 | Test accuracy: 0.9834265112876892\n",
      "Epoch 5\n",
      "--------\n",
      "Train loss: 0.05006108060479164 | Train accuracy: 0.9839500188827515\n",
      "Test loss: 0.04044503718614578 | Test accuracy: 0.9869208931922913\n",
      "The total time: 41.58702275599899\n"
     ]
    }
   ],
   "source": [
    "model_on_gpu = MNISTModel(input_shape=1, hidden_units=10, output_shape=10)\n",
    "model_on_gpu = model_on_gpu.to('cuda')\n",
    "optimizer = torch.optim.SGD(model_on_gpu.parameters(), lr=0.1)\n",
    "start_gpu = timer()\n",
    "epochs = 5\n",
    "for epoch in range(epochs):\n",
    "    print(f'Epoch {epoch+1}\\n--------')\n",
    "    train(model=model_on_gpu, train_data=train_dataloader, loss_function=loss, optimizer=optimizer,\n",
    "         accuracy_function=acc, device='cuda')\n",
    "    test(model=model_on_gpu, test_data=test_dataloader, loss_function=loss, accuracy_function=acc, device='cuda')\n",
    "end_gpu = timer()\n",
    "print(f'The total time: {end_gpu - start_gpu}')"
   ]
  },
  {
   "cell_type": "markdown",
   "id": "c1c0f6fb",
   "metadata": {},
   "source": [
    "Now it's time to make some predictions"
   ]
  },
  {
   "cell_type": "code",
   "execution_count": null,
   "id": "83c81c7a",
   "metadata": {},
   "outputs": [],
   "source": []
  }
 ],
 "metadata": {
  "kernelspec": {
   "display_name": "Python 3 (ipykernel)",
   "language": "python",
   "name": "python3"
  },
  "language_info": {
   "codemirror_mode": {
    "name": "ipython",
    "version": 3
   },
   "file_extension": ".py",
   "mimetype": "text/x-python",
   "name": "python",
   "nbconvert_exporter": "python",
   "pygments_lexer": "ipython3",
   "version": "3.10.9"
  }
 },
 "nbformat": 4,
 "nbformat_minor": 5
}
